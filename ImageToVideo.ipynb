{
  "nbformat": 4,
  "nbformat_minor": 0,
  "metadata": {
    "colab": {
      "name": "Untitled3.ipynb",
      "provenance": [],
      "authorship_tag": "ABX9TyOkIEiCQ52tEFQAe8+lXQBl",
      "include_colab_link": true
    },
    "kernelspec": {
      "name": "python3",
      "display_name": "Python 3"
    }
  },
  "cells": [
    {
      "cell_type": "markdown",
      "metadata": {
        "id": "view-in-github",
        "colab_type": "text"
      },
      "source": [
        "<a href=\"https://colab.research.google.com/github/cshivak/AllureRepo/blob/master/ImageToVideo.ipynb\" target=\"_parent\"><img src=\"https://colab.research.google.com/assets/colab-badge.svg\" alt=\"Open In Colab\"/></a>"
      ]
    },
    {
      "cell_type": "code",
      "metadata": {
        "id": "V9FupOcAOX1B",
        "colab_type": "code",
        "colab": {
          "base_uri": "https://localhost:8080/",
          "height": 51
        },
        "outputId": "aa597d78-83d4-4735-8aa1-7746a3c508eb"
      },
      "source": [
        "  !curl -s https://course.fast.ai/setup/colab | bash"
      ],
      "execution_count": 33,
      "outputs": [
        {
          "output_type": "stream",
          "text": [
            "Updating fastai...\n",
            "Done.\n"
          ],
          "name": "stdout"
        }
      ]
    },
    {
      "cell_type": "code",
      "metadata": {
        "id": "H_vwbLWqIHsW",
        "colab_type": "code",
        "colab": {}
      },
      "source": [
        "import cv2\n",
        "import numpy as np\n",
        "from google.colab import drive\n",
        "import os\n",
        "from os import walk\n",
        "import matplotlib.pyplot as plt\n",
        "from fastai.vision import *"
      ],
      "execution_count": 0,
      "outputs": []
    },
    {
      "cell_type": "code",
      "metadata": {
        "id": "NlI4bb3RIMvS",
        "colab_type": "code",
        "colab": {
          "base_uri": "https://localhost:8080/",
          "height": 122
        },
        "outputId": "29ce900e-a2bd-4d81-8e32-247740a838a9"
      },
      "source": [
        "drive.mount('/content/gdrive', force_remount=True)\n",
        "root_dir = \"/content/gdrive/My Drive/\""
      ],
      "execution_count": 4,
      "outputs": [
        {
          "output_type": "stream",
          "text": [
            "Go to this URL in a browser: https://accounts.google.com/o/oauth2/auth?client_id=947318989803-6bn6qk8qdgf4n4g3pfee6491hc0brc4i.apps.googleusercontent.com&redirect_uri=urn%3aietf%3awg%3aoauth%3a2.0%3aoob&response_type=code&scope=email%20https%3a%2f%2fwww.googleapis.com%2fauth%2fdocs.test%20https%3a%2f%2fwww.googleapis.com%2fauth%2fdrive%20https%3a%2f%2fwww.googleapis.com%2fauth%2fdrive.photos.readonly%20https%3a%2f%2fwww.googleapis.com%2fauth%2fpeopleapi.readonly\n",
            "\n",
            "Enter your authorization code:\n",
            "··········\n",
            "Mounted at /content/gdrive\n"
          ],
          "name": "stdout"
        }
      ]
    },
    {
      "cell_type": "code",
      "metadata": {
        "id": "24QDcEjiIXtv",
        "colab_type": "code",
        "colab": {
          "base_uri": "https://localhost:8080/",
          "height": 34
        },
        "outputId": "b1804f47-14c1-4577-c133-b5a1698ca4d8"
      },
      "source": [
        "projectName = 'Video-Summarization'\n",
        "base_dir = os.path.join(root_dir, projectName)\n",
        "base_dir"
      ],
      "execution_count": 7,
      "outputs": [
        {
          "output_type": "execute_result",
          "data": {
            "text/plain": [
              "'/content/gdrive/My Drive/Video-Summarization'"
            ]
          },
          "metadata": {
            "tags": []
          },
          "execution_count": 7
        }
      ]
    },
    {
      "cell_type": "code",
      "metadata": {
        "id": "4bTRSWDeIjSM",
        "colab_type": "code",
        "colab": {}
      },
      "source": [
        "def getDirectoryDetails(base_dir):\n",
        "  print(base_dir)\n",
        "  files = []\n",
        "  dirpath = \"\"\n",
        "  dirnames = \"\"\n",
        "  for (dirpath, dirnames, filenames) in walk(base_dir):\n",
        "      files.extend(filenames)\n",
        "      dirpath = dirpath\n",
        "      dirnames = dirnames\n",
        "      break\n",
        "  return dirpath, dirnames, files"
      ],
      "execution_count": 0,
      "outputs": []
    },
    {
      "cell_type": "code",
      "metadata": {
        "id": "E3txMd07IkSC",
        "colab_type": "code",
        "colab": {
          "base_uri": "https://localhost:8080/",
          "height": 34
        },
        "outputId": "58efec58-655c-47c1-b148-1aee8106c36f"
      },
      "source": [
        "dirpath, dirnames, files = getDirectoryDetails(base_dir)"
      ],
      "execution_count": 11,
      "outputs": [
        {
          "output_type": "stream",
          "text": [
            "/content/gdrive/My Drive/Video-Summarization\n"
          ],
          "name": "stdout"
        }
      ]
    },
    {
      "cell_type": "code",
      "metadata": {
        "id": "b_Y5tMjnI7j7",
        "colab_type": "code",
        "colab": {
          "base_uri": "https://localhost:8080/",
          "height": 54
        },
        "outputId": "f2f38c57-4c33-4fd7-be69-0d0da8d9fa8e"
      },
      "source": [
        "os.path.join(dirpath, dirnames[1], '{0}.png'.format(1))"
      ],
      "execution_count": 16,
      "outputs": [
        {
          "output_type": "execute_result",
          "data": {
            "text/plain": [
              "'/content/gdrive/My Drive/Video-Summarization/HD CCTV Camera video 3MP 4MP iProx CCTV HDCCTVCamerasnet retail store/1.png'"
            ]
          },
          "metadata": {
            "tags": []
          },
          "execution_count": 16
        }
      ]
    },
    {
      "cell_type": "code",
      "metadata": {
        "id": "m04kiL1wIKzQ",
        "colab_type": "code",
        "colab": {}
      },
      "source": [
        "## Convert frames to video.\n",
        "img = cv2.imread(os.path.join(dirpath, dirnames[1], '{0}.png'.format(0)))\n",
        "height,width,layers=img.shape\n",
        "\n",
        "fourcc = cv2.VideoWriter_fourcc(*'mp4v') \n",
        "video=cv2.VideoWriter(os.path.join(dirpath, dirnames[1], 'video.avi'),fourcc,10,(width,height))\n",
        "\n",
        "for i in range(0,98):\n",
        "  # Can't use fastAi because it isn't returning the type expected by cv2\n",
        "  # img = open_image(os.path.join(dirpath, dirnames[1], '{0}.png'.format(i)))\n",
        "  img = cv2.imread(os.path.join(dirpath, dirnames[1], '{0}.png'.format(i)))\n",
        "  video.write(img)\n",
        "\n",
        "cv2.destroyAllWindows()\n",
        "video.release()"
      ],
      "execution_count": 0,
      "outputs": []
    },
    {
      "cell_type": "code",
      "metadata": {
        "id": "YoTFeYckKpSG",
        "colab_type": "code",
        "colab": {
          "base_uri": "https://localhost:8080/",
          "height": 71
        },
        "outputId": "cff7fb13-97fc-4780-fd08-3990c52d5404"
      },
      "source": [
        "a, b ,c = getDirectoryDetails(os.path.join(dirpath, dirnames[1]))\n",
        "b"
      ],
      "execution_count": 41,
      "outputs": [
        {
          "output_type": "stream",
          "text": [
            "/content/gdrive/My Drive/Video-Summarization/HD CCTV Camera video 3MP 4MP iProx CCTV HDCCTVCamerasnet retail store\n"
          ],
          "name": "stdout"
        },
        {
          "output_type": "execute_result",
          "data": {
            "text/plain": [
              "['.ipynb_checkpoints']"
            ]
          },
          "metadata": {
            "tags": []
          },
          "execution_count": 41
        }
      ]
    },
    {
      "cell_type": "code",
      "metadata": {
        "id": "Xay-EbuaP0L0",
        "colab_type": "code",
        "colab": {}
      },
      "source": [
        ""
      ],
      "execution_count": 0,
      "outputs": []
    }
  ]
}